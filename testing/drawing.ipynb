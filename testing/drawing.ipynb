{
 "cells": [
  {
   "cell_type": "code",
   "execution_count": 3,
   "metadata": {},
   "outputs": [],
   "source": [
    "import cairo\n",
    "from IPython.display import Image, display\n",
    "from math import pi\n",
    "from io import BytesIO\n",
    "\n",
    "\n",
    "#for the display of the image in notebook\n",
    "def display_function(draw_func):\n",
    "    surface = cairo.ImageSurface(cairo.FORMAT_ARGB32, 200,200)\n",
    "    ctx = cairo.Context(surface)\n",
    "    draw_func(ctx, 200, 200)\n",
    "    with BytesIO() as fileobj:\n",
    "        surface.write_to_png(fileobj)\n",
    "        display(Image(fileobj.getvalue(), width=200))"
   ]
  },
  {
   "cell_type": "code",
   "execution_count": 4,
   "metadata": {},
   "outputs": [
    {
     "data": {
      "image/png": "[encoded data removed]",
      "text/plain": [
       "<IPython.core.display.Image object>"
      ]
     },
     "metadata": {
      "image/png": {
       "width": 200
      }
     },
     "output_type": "display_data"
    }
   ],
   "source": [
    "@display_function\n",
    "def drwaing_function(context,width,height):\n",
    "    context.scale(width,height)\n",
    "    context.set_line_width(0.04)\n",
    "    context.rectangle(0,0,1,1)\n",
    "    context.fill()\n",
    "\n",
    "    #square\n",
    "    context.move_to(0,0)\n",
    "    context.line_to(0.5, 0)\n",
    "    context.line_to(0.5, 0.5)\n",
    "    context.line_to(0, 0.5)\n",
    "    context.close_path()\n",
    "    context.line_to(0.5, 0.5)\n",
    "    context.move_to(0.5, 0)\n",
    "    context.line_to(0, 0.5)\n",
    "\n",
    "\n",
    "    context.set_source_rgb(0.0, 1.0, 0.16)  # Solid color\n",
    "    context.set_line_width(0.02)\n",
    "    context.stroke()\n",
    "\n",
    "\n"
   ]
  },
  {
   "cell_type": "code",
   "execution_count": null,
   "metadata": {},
   "outputs": [],
   "source": []
  }
 ],
 "metadata": {
  "interpreter": {
   "hash": "f84add0253826dea13619cfd2bd24893eac34878be4aa986e9e6a80812895cf7"
  },
  "kernelspec": {
   "display_name": "Python 3.10.4 ('fun_venv')",
   "language": "python",
   "name": "python3"
  },
  "language_info": {
   "codemirror_mode": {
    "name": "ipython",
    "version": 3
   },
   "file_extension": ".py",
   "mimetype": "text/x-python",
   "name": "python",
   "nbconvert_exporter": "python",
   "pygments_lexer": "ipython3",
   "version": "3.10.7"
  },
  "orig_nbformat": 4
 },
 "nbformat": 4,
 "nbformat_minor": 2
}
